{
  "nbformat": 4,
  "nbformat_minor": 0,
  "metadata": {
    "colab": {
      "provenance": [],
      "toc_visible": true,
      "authorship_tag": "ABX9TyMzu9fZ/J4q4rnAIvc+VHhP",
      "include_colab_link": true
    },
    "kernelspec": {
      "name": "python3",
      "display_name": "Python 3"
    },
    "language_info": {
      "name": "python"
    }
  },
  "cells": [
    {
      "cell_type": "markdown",
      "metadata": {
        "id": "view-in-github",
        "colab_type": "text"
      },
      "source": [
        "<a href=\"https://colab.research.google.com/github/micah-shull/Data_Analysis/blob/main/DataClean_0_OutlierDetectionRemoval.ipynb\" target=\"_parent\"><img src=\"https://colab.research.google.com/assets/colab-badge.svg\" alt=\"Open In Colab\"/></a>"
      ]
    },
    {
      "cell_type": "markdown",
      "source": [
        "# Data Cleaning and Preprocessing - Outliers"
      ],
      "metadata": {
        "id": "_JagRw51NEGp"
      }
    },
    {
      "cell_type": "markdown",
      "source": [
        "### Outliers: Description and Impact on Datasets and Machine Learning\n",
        "\n",
        "**Outliers** are data points that differ significantly from the majority of observations in a dataset. They can be unusually high or low values and often deviate markedly from the rest of the data. Outliers can arise due to variability in the data, measurement errors, or experimental errors.\n",
        "\n",
        "### How Outliers Affect Datasets and Machine Learning\n",
        "\n",
        "1. **Distortion of Statistical Measures:**\n",
        "   - **Mean and Standard Deviation:** Outliers can skew the mean, making it unrepresentative of the central tendency. They also inflate the standard deviation, indicating more variability than actually exists.\n",
        "   - **Correlations:** Outliers can distort correlation coefficients, making relationships between variables appear stronger or weaker than they are.\n",
        "\n",
        "2. **Impact on Data Visualization:**\n",
        "   - **Graphs and Charts:** Outliers can create misleading visualizations, such as stretched boxplots or scatter plots with points far removed from the bulk of the data, which can obscure the true data patterns.\n",
        "\n",
        "3. **Effect on Machine Learning Models:**\n",
        "   - **Linear Models:** Outliers can disproportionately influence linear regression models, leading to biased coefficients and poor model performance.\n",
        "   - **Distance-Based Models:** Models like k-Nearest Neighbors (k-NN) and clustering algorithms can be heavily impacted by outliers, as they rely on distance calculations.\n",
        "   - **Tree-Based Models:** While tree-based models (e.g., Random Forests) are generally more robust to outliers, extreme values can still affect the model's performance and interpretation.\n",
        "\n",
        "4. **Model Training and Evaluation:**\n",
        "   - **Overfitting:** Outliers can cause models to overfit the training data, learning the noise instead of the signal, which reduces generalizability to new data.\n",
        "   - **Error Metrics:** Outliers can skew error metrics like Mean Squared Error (MSE) and Root Mean Squared Error (RMSE), making it harder to assess the model's true performance.\n",
        "\n",
        "5. **Data Integrity and Quality:**\n",
        "   - **Data Cleaning:** The presence of outliers can indicate issues with data collection or entry, prompting a need for data cleaning to improve data quality.\n",
        "   - **Decision Making:** Outliers can lead to incorrect insights and decisions if not properly addressed, as they can misrepresent the underlying patterns in the data.\n",
        "\n",
        "### Strategies to Handle Outliers\n",
        "\n",
        "To mitigate the negative effects of outliers, various strategies can be employed:\n",
        "\n",
        "- **Detection and Removal:** Identify and remove outliers to prevent them from distorting the analysis and model training.\n",
        "- **Transformation:** Apply transformations (e.g., log, Box-Cox) to reduce the impact of outliers.\n",
        "- **Robust Methods:** Use robust statistical techniques and algorithms (e.g., median, IQR-based methods, robust scaling) that are less sensitive to outliers.\n",
        "- **Model-Based Detection:** Use advanced methods like Isolation Forest, Local Outlier Factor (LOF), or clustering-based approaches to detect and handle outliers.\n",
        "\n",
        "By understanding and addressing outliers, you can improve the integrity of your dataset and the performance of your machine learning models."
      ],
      "metadata": {
        "id": "nstoqiHSzTVr"
      }
    },
    {
      "cell_type": "code",
      "execution_count": 88,
      "metadata": {
        "id": "6s6VfZMQLuwk"
      },
      "outputs": [],
      "source": [
        "# Import necessary libraries\n",
        "import pandas as pd\n",
        "import numpy as np\n",
        "import seaborn as sns\n",
        "import matplotlib.pyplot as plt\n",
        "\n",
        "from sklearn.datasets import fetch_california_housing\n",
        "\n",
        "\n",
        "# Load the California Housing dataset\n",
        "california = fetch_california_housing()\n",
        "\n",
        "# Create a DataFrame\n",
        "df = pd.DataFrame(california.data, columns=california.feature_names)\n",
        "df['MedHouseVal'] = california.target"
      ]
    },
    {
      "cell_type": "markdown",
      "source": [
        "### Visualize Outliers"
      ],
      "metadata": {
        "id": "NiqGH4WVV16o"
      }
    },
    {
      "cell_type": "code",
      "source": [
        "def visualize_outliers(outliers_dict, df, orient='h', palette='coolwarm', figsize_multiplier=0.5):\n",
        "    \"\"\"\n",
        "    Visualizes the distribution of columns with outliers in a standardized form using boxplots.\n",
        "\n",
        "    Args:\n",
        "        outliers_dict (dict): Dictionary containing DataFrames of outliers for each numeric column.\n",
        "        df (pd.DataFrame): The original DataFrame from which outliers were detected.\n",
        "        orient (str): Orientation of the boxplot, 'h' for horizontal or 'v' for vertical.\n",
        "        palette (str): Color palette for the boxplots.\n",
        "        figsize_multiplier (float): Multiplier to adjust the figure size dynamically based on the number of columns.\n",
        "\n",
        "    Returns:\n",
        "        None\n",
        "    \"\"\"\n",
        "    outlier_cols = list(outliers_dict.keys())\n",
        "\n",
        "    if not outlier_cols:\n",
        "        print(\"No outliers detected in numeric columns.\")\n",
        "        return\n",
        "\n",
        "    # Visualization\n",
        "    outlier_data_subset = df[outlier_cols].copy()\n",
        "    std = outlier_data_subset.std()\n",
        "    mean = outlier_data_subset.mean()\n",
        "    outlier_data_subset = outlier_data_subset.subtract(mean, axis=1).div(std.replace(0, np.nan), axis=1)\n",
        "\n",
        "    sns.set_style(\"whitegrid\")\n",
        "    sns.set_context(\"notebook\")\n",
        "    plt.figure(figsize=(10, max(1, len(outlier_cols)) * figsize_multiplier))\n",
        "    sns.boxplot(data=outlier_data_subset, orient=orient, palette=palette)\n",
        "    plt.title(\"Boxplot of Features with Outliers (Standardized Data)\")\n",
        "    plt.show()\n"
      ],
      "metadata": {
        "id": "bS5qluyUV43S"
      },
      "execution_count": 89,
      "outputs": []
    },
    {
      "cell_type": "code",
      "source": [
        "visualize_outliers(outliers_dict, dfc, orient='h', palette='coolwarm', figsize_multiplier=0.5)"
      ],
      "metadata": {
        "colab": {
          "base_uri": "https://localhost:8080/",
          "height": 318
        },
        "id": "8yqrGPQMV9SH",
        "outputId": "baddb046-6224-438f-fd5b-875279463be9"
      },
      "execution_count": 90,
      "outputs": [
        {
          "output_type": "display_data",
          "data": {
            "text/plain": [
              "<Figure size 1000x300 with 1 Axes>"
            ],
            "image/png": "[encoded data removed]"
          },
          "metadata": {}
        }
      ]
    },
    {
      "cell_type": "markdown",
      "source": [
        "## Outlier Detection IQR vs Z Score"
      ],
      "metadata": {
        "id": "9ewEFMsIR40k"
      }
    },
    {
      "cell_type": "markdown",
      "source": [
        "### Z-Score Method\n",
        "\n",
        "The Z-score measures how many standard deviations a data point is from the mean:\n",
        "\n",
        "\\[ Z = \\frac{(X - \\mu)}{\\sigma} \\]\n",
        "\n",
        "#### Strengths:\n",
        "- **Standardization:** Compares values across different datasets.\n",
        "- **Simplicity:** Easy to calculate and understand.\n",
        "- **Effective for Normal Distributions:** Best with normally distributed data.\n",
        "\n",
        "#### Weaknesses:\n",
        "- **Sensitive to Outliers:** Mean and standard deviation are influenced by extreme values.\n",
        "- **Assumes Normality:** Requires data to be normally distributed."
      ],
      "metadata": {
        "id": "SWhCVlR-0i90"
      }
    },
    {
      "cell_type": "code",
      "source": [
        "from scipy.stats import zscore\n",
        "\n",
        "def identify_outliers_zscore(df, threshold=3):\n",
        "    \"\"\"\n",
        "    Identifies outliers in each numeric column of the DataFrame using the Z-score method.\n",
        "\n",
        "    Args:\n",
        "        df (pd.DataFrame): The original DataFrame from which outliers are to be detected.\n",
        "        threshold (float): The Z-score threshold for defining outliers (default is 3).\n",
        "\n",
        "    Returns:\n",
        "        dict: Dictionary containing DataFrames of outliers for each numeric column.\n",
        "    \"\"\"\n",
        "    outliers_dict = {}\n",
        "    numeric_cols = df.select_dtypes(include=[np.number]).columns\n",
        "\n",
        "    for col in numeric_cols:\n",
        "        z_scores = zscore(df[col])\n",
        "        outliers = df[(z_scores > threshold) | (z_scores < -threshold)]\n",
        "        if not outliers.empty:\n",
        "            outliers_dict[col] = outliers\n",
        "\n",
        "    return outliers_dict\n"
      ],
      "metadata": {
        "id": "lEOAhTcH1147"
      },
      "execution_count": 91,
      "outputs": []
    },
    {
      "cell_type": "code",
      "source": [
        "dfc = df.copy()\n",
        "outliers_dict = identify_outliers_zscore(dfc)\n",
        "print(outliers_dict.keys())"
      ],
      "metadata": {
        "colab": {
          "base_uri": "https://localhost:8080/"
        },
        "id": "0M_729rC2AQ_",
        "outputId": "eb3ca314-3fe7-48e2-fe68-5f153b6fccd7"
      },
      "execution_count": 92,
      "outputs": [
        {
          "output_type": "stream",
          "name": "stdout",
          "text": [
            "dict_keys(['MedInc', 'AveRooms', 'AveBedrms', 'Population', 'AveOccup'])\n"
          ]
        }
      ]
    },
    {
      "cell_type": "markdown",
      "source": [
        "\n",
        "\n",
        "### Interquartile Range (IQR) Method\n",
        "\n",
        "#### Strengths:\n",
        "- **Robust to Outliers:** Less affected by extreme values.\n",
        "- **Distribution-Agnostic:** No assumption of normal distribution.\n",
        "- **Simple Calculation:** Easy to compute and interpret.\n",
        "\n",
        "#### Weaknesses:\n",
        "- **Ignores Extremes:** Focuses only on the middle 50% of data.\n",
        "- **Less Effective for Small Datasets:** Quartiles might not be well-defined.\n",
        "\n"
      ],
      "metadata": {
        "id": "u8TxuDjC0ZMy"
      }
    },
    {
      "cell_type": "code",
      "source": [
        "def identify_outliers_iqr(df, threshold=1.5):\n",
        "    \"\"\"\n",
        "    Identifies outliers in each numeric column of the DataFrame using the IQR method.\n",
        "\n",
        "    Args:\n",
        "        df (pd.DataFrame): The original DataFrame from which outliers are to be detected.\n",
        "        threshold (float): The IQR multiplier for defining outliers (default is 1.5).\n",
        "\n",
        "    Returns:\n",
        "        dict: Dictionary containing DataFrames of outliers for each numeric column.\n",
        "    \"\"\"\n",
        "    outliers_dict = {}\n",
        "    numeric_cols = df.select_dtypes(include=[np.number]).columns\n",
        "\n",
        "    for col in numeric_cols:\n",
        "        Q1 = df[col].quantile(0.25)\n",
        "        Q3 = df[col].quantile(0.75)\n",
        "        IQR = Q3 - Q1\n",
        "        if IQR == 0:\n",
        "            continue  # Skip columns with IQR of 0 (constant values)\n",
        "        lower_bound = Q1 - threshold * IQR\n",
        "        upper_bound = Q3 + threshold * IQR\n",
        "        outliers = df[(df[col] < lower_bound) | (df[col] > upper_bound)]\n",
        "        if not outliers.empty:\n",
        "            outliers_dict[col] = outliers\n",
        "\n",
        "    return outliers_dict\n"
      ],
      "metadata": {
        "id": "t8uc610W1ZdU"
      },
      "execution_count": 93,
      "outputs": []
    },
    {
      "cell_type": "code",
      "source": [
        "# apply outlier detection\n",
        "dfc = df.copy()\n",
        "outliers_dict = identify_outliers_iqr(dfc)\n",
        "print(outliers_dict.keys())"
      ],
      "metadata": {
        "colab": {
          "base_uri": "https://localhost:8080/"
        },
        "id": "65qLR1NS2Iqw",
        "outputId": "2fb0df2c-a79e-4b95-c218-9982e405b19c"
      },
      "execution_count": 94,
      "outputs": [
        {
          "output_type": "stream",
          "name": "stdout",
          "text": [
            "dict_keys(['MedInc', 'AveRooms', 'AveBedrms', 'Population', 'AveOccup', 'MedHouseVal'])\n"
          ]
        }
      ]
    },
    {
      "cell_type": "markdown",
      "source": [
        "### Differences Between Z-Score and IQR Methods\n",
        "\n",
        "1. **Calculation Basis:**\n",
        "   - **Z-Score:** Based on mean and standard deviation.\n",
        "   - **IQR:** Based on quartiles (median and percentiles).\n",
        "\n",
        "2. **Sensitivity to Outliers:**\n",
        "   - **Z-Score:** Sensitive to outliers.\n",
        "   - **IQR:** Robust to outliers.\n",
        "\n",
        "3. **Assumption of Distribution:**\n",
        "   - **Z-Score:** Assumes normal distribution.\n",
        "   - **IQR:** No distribution assumption.\n",
        "\n",
        "4. **Application:**\n",
        "   - **Z-Score:** Standardizing data, normally distributed datasets.\n",
        "   - **IQR:** Detecting outliers in non-normal data, robust analysis.\n",
        "\n",
        "\n"
      ],
      "metadata": {
        "id": "UAnZMZ1W07xE"
      }
    },
    {
      "cell_type": "markdown",
      "source": [
        "### Summary\n",
        "\n",
        "- **Z-Score:** Standardizes values, effective for normal data but sensitive to outliers.\n",
        "- **IQR:** Robust to outliers, no distribution assumption, but may miss certain outliers and be less effective for small datasets."
      ],
      "metadata": {
        "id": "D4xtsSFk1Dek"
      }
    },
    {
      "cell_type": "markdown",
      "source": [
        "## Dealing with Outliers"
      ],
      "metadata": {
        "id": "fO0ZajQMY08v"
      }
    },
    {
      "cell_type": "markdown",
      "source": [
        "### Isolation Forest\n",
        "\n",
        "Isolation Forest (IsoForest) is an unsupervised machine learning algorithm used for anomaly detection. It works by isolating observations by randomly selecting a feature and then randomly selecting a split value between the maximum and minimum values of the selected feature. The logic behind the Isolation Forest algorithm is that outliers are few and different, and they are easier to isolate compared to normal points.\n",
        "\n",
        "#### Strengths:\n",
        "- **Efficient:** The algorithm is linear in the number of data points.\n",
        "- **Effective:** It often performs well for anomaly detection tasks because of its ability to isolate anomalies quickly.\n",
        "- **Scalability:** Can be applied to large datasets efficiently.\n",
        "- **No Assumptions:** Does not assume any underlying distribution for the data.\n",
        "\n",
        "#### Weaknesses:\n",
        "- **Parameter Sensitivity:** Performance can be sensitive to the number of trees and sub-sample size parameters.\n",
        "- **Interpretability:** Results can sometimes be less interpretable compared to other methods like statistical methods."
      ],
      "metadata": {
        "id": "yDWymdnLXTO7"
      }
    },
    {
      "cell_type": "code",
      "source": [
        "from sklearn.ensemble import IsolationForest\n",
        "import numpy as np\n",
        "import pandas as pd\n",
        "import seaborn as sns\n",
        "\n",
        "def handle_outliers_isolation_forest(df, contamination=0.01, random_state=0):\n",
        "    \"\"\"\n",
        "    Identifies and handles outliers in the DataFrame using the Isolation Forest algorithm.\n",
        "\n",
        "    Args:\n",
        "        df (pd.DataFrame): The original DataFrame from which outliers are to be detected.\n",
        "        contamination (float): The proportion of outliers in the data set.\n",
        "        random_state (int): The seed used by the random number generator.\n",
        "\n",
        "    Returns:\n",
        "        pd.DataFrame: The DataFrame with outliers handled.\n",
        "        pd.Series: A boolean series indicating whether each point is an outlier.\n",
        "    \"\"\"\n",
        "    # Select numeric columns\n",
        "    numeric_cols = df.select_dtypes(include=[np.number]).columns\n",
        "    df_numeric = df[numeric_cols]\n",
        "\n",
        "    # Train the Isolation Forest model\n",
        "    iso_forest = IsolationForest(contamination=contamination, random_state=random_state)\n",
        "    df['outlier'] = iso_forest.fit_predict(df_numeric)\n",
        "\n",
        "    # -1 indicates an outlier, we will filter them out\n",
        "    is_inlier = df['outlier'] != -1\n",
        "\n",
        "    # Drop the outlier column and return the cleaned DataFrame and the boolean series\n",
        "    df_cleaned = df.drop(columns=['outlier'])\n",
        "    return df_cleaned[is_inlier], df['outlier']"
      ],
      "metadata": {
        "id": "bFbCgfeRTrkM"
      },
      "execution_count": 95,
      "outputs": []
    },
    {
      "cell_type": "code",
      "source": [
        "dfc = df.copy()\n",
        "\n",
        "print(\"Number of rows in dataframe before processing =\", dfc.shape)\n",
        "# Handle outliers using Isolation Forest\n",
        "df_cleaned, outliers = handle_outliers_isolation_forest(dfc)\n",
        "\n",
        "# Check the results\n",
        "print('Number of outliers detected:', sum(outliers == -1))\n",
        "print('Number of inliers:', sum(outliers != -1))\n",
        "print(\"Number of rows in dataframe after processing =\", df_cleaned.shape)"
      ],
      "metadata": {
        "colab": {
          "base_uri": "https://localhost:8080/"
        },
        "id": "B5vUg04SYEc-",
        "outputId": "9db31897-a95b-4c0a-a8f1-916a22192007"
      },
      "execution_count": 96,
      "outputs": [
        {
          "output_type": "stream",
          "name": "stdout",
          "text": [
            "Number of rows in dataframe before processing = (20640, 9)\n"
          ]
        },
        {
          "output_type": "stream",
          "name": "stderr",
          "text": [
            "/usr/local/lib/python3.10/dist-packages/sklearn/base.py:439: UserWarning: X does not have valid feature names, but IsolationForest was fitted with feature names\n",
            "  warnings.warn(\n"
          ]
        },
        {
          "output_type": "stream",
          "name": "stdout",
          "text": [
            "Number of outliers detected: 207\n",
            "Number of inliers: 20433\n",
            "Number of rows in dataframe after processing = (20433, 9)\n"
          ]
        }
      ]
    },
    {
      "cell_type": "markdown",
      "source": [
        "### Local Outlier Factor (LOF)\n",
        "\n",
        "Local Outlier Factor (LOF) is an unsupervised outlier detection algorithm that measures the local density deviation of a given data point with respect to its neighbors. It considers the local density of the neighborhood and compares it with the density of the point itself. Points with a significantly lower density than their neighbors are considered outliers.\n",
        "\n",
        "#### Strengths:\n",
        "- **Local Density-Based:** LOF is effective at identifying outliers that are sparse within local clusters.\n",
        "- **Scalable:** Can handle large datasets efficiently.\n",
        "- **No Assumptions:** Does not assume any underlying distribution for the data.\n",
        "\n",
        "#### Weaknesses:\n",
        "- **Parameter Sensitivity:** Performance can be sensitive to the choice of the number of neighbors (k).\n",
        "- **Computational Cost:** Can be computationally expensive for very large datasets due to the need to calculate distances between points.\n",
        "\n",
        "\n"
      ],
      "metadata": {
        "id": "z24VlXO0alS_"
      }
    },
    {
      "cell_type": "code",
      "source": [
        "from sklearn.neighbors import LocalOutlierFactor\n",
        "import numpy as np\n",
        "import pandas as pd\n",
        "import seaborn as sns\n",
        "\n",
        "def handle_outliers_lof(df, n_neighbors=20, contamination=0.01):\n",
        "    \"\"\"\n",
        "    Identifies and handles outliers in the DataFrame using the Local Outlier Factor algorithm.\n",
        "\n",
        "    Args:\n",
        "        df (pd.DataFrame): The original DataFrame from which outliers are to be detected.\n",
        "        n_neighbors (int): The number of neighbors to use for the LOF calculation.\n",
        "        contamination (float): The proportion of outliers in the data set.\n",
        "\n",
        "    Returns:\n",
        "        pd.DataFrame: The DataFrame with outliers handled.\n",
        "        pd.Series: A boolean series indicating whether each point is an outlier.\n",
        "    \"\"\"\n",
        "    # Select numeric columns\n",
        "    numeric_cols = df.select_dtypes(include=[np.number]).columns\n",
        "    df_numeric = df[numeric_cols]\n",
        "\n",
        "    # Train the Local Outlier Factor model\n",
        "    lof = LocalOutlierFactor(n_neighbors=n_neighbors, contamination=contamination)\n",
        "    df['outlier'] = lof.fit_predict(df_numeric)\n",
        "\n",
        "    # -1 indicates an outlier, we will filter them out\n",
        "    is_inlier = df['outlier'] != -1\n",
        "\n",
        "    # Drop the outlier column and return the cleaned DataFrame and the boolean series\n",
        "    df_cleaned = df.drop(columns=['outlier'])\n",
        "    return df_cleaned[is_inlier], df['outlier']"
      ],
      "metadata": {
        "id": "ycxPat1Sawfq"
      },
      "execution_count": 97,
      "outputs": []
    },
    {
      "cell_type": "code",
      "source": [
        "dfc = df.copy()\n",
        "print(\"Number of rows in dataframe before processing =\", dfc.shape)\n",
        "\n",
        "# Handle outliers using Local Outlier Factor\n",
        "df_cleaned, outliers = handle_outliers_lof(dfc)\n",
        "\n",
        "# Check the results\n",
        "print('Number of outliers detected:', sum(outliers == -1))\n",
        "print('Number of inliers:', sum(outliers != -1))\n",
        "print(\"Number of rows in dataframe after processing =\", df_cleaned.shape)"
      ],
      "metadata": {
        "colab": {
          "base_uri": "https://localhost:8080/"
        },
        "id": "-OMf303jbArG",
        "outputId": "9472aa7f-1b6c-40d9-c666-8cb6c640418e"
      },
      "execution_count": 98,
      "outputs": [
        {
          "output_type": "stream",
          "name": "stdout",
          "text": [
            "Number of rows in dataframe before processing = (20640, 9)\n",
            "Number of outliers detected: 207\n",
            "Number of inliers: 20433\n",
            "Number of rows in dataframe after processing = (20433, 9)\n"
          ]
        }
      ]
    },
    {
      "cell_type": "markdown",
      "source": [
        "### Log Transformation\n",
        "\n",
        "Log transformation is a technique used to stabilize variance, make the data more normally distributed, and reduce the skewness of the data. It is particularly useful when dealing with data that spans several orders of magnitude. The log transformation is defined as the natural logarithm (ln) of the data.\n",
        "\n",
        "#### Strengths:\n",
        "- **Reduces Skewness:** Helps in reducing the skewness of the data, making it more normally distributed.\n",
        "- **Stabilizes Variance:** Reduces heteroscedasticity (when the variance of the data is unequal across the range of values).\n",
        "- **Highlights Small Changes:** Makes it easier to see small changes in data that have a large range.\n",
        "\n",
        "#### Weaknesses:\n",
        "- **Non-Negative Values Required:** Log transformation can only be applied to positive values. Zero or negative values need to be handled separately.\n",
        "- **Interpretation:** Transformed data may be harder to interpret compared to the original scale.\n",
        "\n",
        "\n",
        "\n"
      ],
      "metadata": {
        "id": "adHHuJvghuKo"
      }
    },
    {
      "cell_type": "code",
      "source": [
        "import numpy as np\n",
        "import pandas as pd\n",
        "import seaborn as sns\n",
        "\n",
        "def apply_log_transform(df):\n",
        "    \"\"\"\n",
        "    Applies log transformation to numerical columns in the DataFrame.\n",
        "\n",
        "    Args:\n",
        "        df (pd.DataFrame): The original DataFrame to be transformed.\n",
        "\n",
        "    Returns:\n",
        "        pd.DataFrame: The DataFrame with log-transformed numerical columns.\n",
        "    \"\"\"\n",
        "    df_transformed = df.copy()\n",
        "    numeric_cols = df.select_dtypes(include=[np.number]).columns\n",
        "\n",
        "    for col in numeric_cols:\n",
        "        # Add a small constant to avoid log(0)\n",
        "        df_transformed[col] = df_transformed[col].apply(lambda x: np.log(x + 1) if x > 0 else np.nan)\n",
        "\n",
        "    return df_transformed"
      ],
      "metadata": {
        "id": "dYJmjE9_Xrw0"
      },
      "execution_count": 99,
      "outputs": []
    },
    {
      "cell_type": "code",
      "source": [
        "dfc = df.copy()\n",
        "print(\"Number of rows in dataframe before processing =\", dfc.shape)\n",
        "# Apply log transformation\n",
        "df_log_transformed = apply_log_transform(dfc)\n",
        "print(\"Number of rows in dataframe after processing =\", df_log_transformed.shape)"
      ],
      "metadata": {
        "colab": {
          "base_uri": "https://localhost:8080/"
        },
        "id": "oqC2K-CmX0Lf",
        "outputId": "d922446a-a617-4431-b4f0-7bc1be1c30a5"
      },
      "execution_count": 100,
      "outputs": [
        {
          "output_type": "stream",
          "name": "stdout",
          "text": [
            "Number of rows in dataframe before processing = (20640, 9)\n",
            "Number of rows in dataframe after processing = (20640, 9)\n"
          ]
        }
      ]
    },
    {
      "cell_type": "markdown",
      "source": [
        "### Box-Cox Transformation\n",
        "\n",
        "The Box-Cox transformation is a family of power transformations that aim to stabilize variance and make the data more normally distributed. The Box-Cox transformation is defined for positive data and is parameterized by a lambda value (λ) that can be optimized to best fit the data to a normal distribution.\n",
        "\n",
        "#### Strengths:\n",
        "- **Variance Stabilization:** Helps in stabilizing the variance across the dataset.\n",
        "- **Normality:** Makes the data more normally distributed, which is useful for many statistical techniques that assume normality.\n",
        "- **Flexibility:** The transformation is flexible and can be adjusted using the lambda parameter to achieve the best normalization effect.\n",
        "\n",
        "#### Weaknesses:\n",
        "- **Non-Negative Values Required:** Box-Cox transformation can only be applied to positive data. Zero or negative values need to be handled separately.\n",
        "- **Complexity:** The process of finding the optimal lambda can be computationally intensive.\n",
        "- **Interpretation:** Transformed data may be harder to interpret compared to the original scale.\n"
      ],
      "metadata": {
        "id": "uD4hhIjflQL9"
      }
    },
    {
      "cell_type": "code",
      "source": [
        "from scipy.stats import boxcox\n",
        "import numpy as np\n",
        "import pandas as pd\n",
        "import seaborn as sns\n",
        "\n",
        "def apply_box_cox_transform(df):\n",
        "    \"\"\"\n",
        "    Applies Box-Cox transformation to numerical columns in the DataFrame.\n",
        "\n",
        "    Args:\n",
        "        df (pd.DataFrame): The original DataFrame to be transformed.\n",
        "\n",
        "    Returns:\n",
        "        pd.DataFrame: The DataFrame with Box-Cox transformed numerical columns.\n",
        "    \"\"\"\n",
        "    df_transformed = df.copy()\n",
        "    numeric_cols = df.select_dtypes(include=[np.number]).columns\n",
        "\n",
        "    for col in numeric_cols:\n",
        "        # Only apply Box-Cox transformation to positive values\n",
        "        if (df_transformed[col] > 0).all():\n",
        "            df_transformed[col], _ = boxcox(df_transformed[col])\n",
        "        else:\n",
        "            # Handle non-positive values separately if needed\n",
        "            df_transformed[col] = df_transformed[col].apply(lambda x: np.nan if x <= 0 else x)\n",
        "            df_transformed[col] = df_transformed[col].dropna()\n",
        "            df_transformed[col], _ = boxcox(df_transformed[col])\n",
        "\n",
        "    return df_transformed"
      ],
      "metadata": {
        "id": "JFbQWEFRlWBx"
      },
      "execution_count": 101,
      "outputs": []
    },
    {
      "cell_type": "code",
      "source": [
        "dfc = df.copy()\n",
        "\n",
        "# negative values are not accepted by this method\n",
        "dfc['Longitude'].plot()\n",
        "print(dfc['Longitude'].describe().T)"
      ],
      "metadata": {
        "colab": {
          "base_uri": "https://localhost:8080/",
          "height": 590
        },
        "id": "VgcZ5ZX9mARx",
        "outputId": "9c806504-fb50-436e-8fe2-e5fd24ba5488"
      },
      "execution_count": 104,
      "outputs": [
        {
          "output_type": "stream",
          "name": "stdout",
          "text": [
            "count    20640.000000\n",
            "mean      -119.569704\n",
            "std          2.003532\n",
            "min       -124.350000\n",
            "25%       -121.800000\n",
            "50%       -118.490000\n",
            "75%       -118.010000\n",
            "max       -114.310000\n",
            "Name: Longitude, dtype: float64\n"
          ]
        },
        {
          "output_type": "display_data",
          "data": {
            "text/plain": [
              "<Figure size 640x480 with 1 Axes>"
            ],
            "image/png": "[encoded data removed]"
          },
          "metadata": {}
        }
      ]
    },
    {
      "cell_type": "code",
      "source": [
        "dfc = df.copy()\n",
        "\n",
        "dfL = df.drop(columns=['Latitude', 'Longitude'], axis=1)\n",
        "print(\"Number of rows in dataframe before processing =\", dfL.shape)\n",
        "\n",
        "# Apply Box-Cox transformation\n",
        "df_box_cox_transformed = apply_box_cox_transform(dfL)\n",
        "print(\"Number of rows in dataframe after processing =\", df_box_cox_transformed.shape)"
      ],
      "metadata": {
        "colab": {
          "base_uri": "https://localhost:8080/"
        },
        "id": "dELAsMAUla9I",
        "outputId": "212fde8b-0637-43d0-87c0-68eead8080a1"
      },
      "execution_count": 105,
      "outputs": [
        {
          "output_type": "stream",
          "name": "stdout",
          "text": [
            "Number of rows in dataframe before processing = (20640, 7)\n",
            "Number of rows in dataframe after processing = (20640, 7)\n"
          ]
        }
      ]
    },
    {
      "cell_type": "code",
      "source": [],
      "metadata": {
        "id": "r9rfu7FQmBV0"
      },
      "execution_count": 103,
      "outputs": []
    },
    {
      "cell_type": "markdown",
      "source": [
        "### Additional Methods for Handling Outliers\n",
        "\n",
        "Beyond the Isolation Forest, Local Outlier Factor, and transformation methods like Log and Box-Cox transformations, there are several other effective techniques for detecting and handling outliers. Here are a few more methods:\n",
        "\n",
        "### 1. **Winsorization**\n",
        "\n",
        "Winsorization involves limiting extreme values in the data to reduce the effect of possibly spurious outliers. This technique involves setting the extreme values to a certain percentile value, effectively capping them.\n",
        "\n",
        "#### Strengths:\n",
        "- **Reduces the Impact of Outliers:** Effectively reduces the influence of extreme values without removing data points.\n",
        "- **Simple and Easy to Implement:** Easy to apply with clear rules.\n",
        "\n",
        "#### Weaknesses:\n",
        "- **Arbitrary Limits:** The choice of percentiles can be arbitrary and might not be optimal for all datasets.\n",
        "\n",
        "### Implementation of Winsorization\n",
        "\n",
        "```python\n",
        "from scipy.stats.mstats import winsorize\n",
        "\n",
        "def apply_winsorization(df, limits=(0.01, 0.01)):\n",
        "    \"\"\"\n",
        "    Applies Winsorization to numerical columns in the DataFrame.\n",
        "\n",
        "    Args:\n",
        "        df (pd.DataFrame): The original DataFrame to be transformed.\n",
        "        limits (tuple): The lower and upper limits for Winsorization.\n",
        "\n",
        "    Returns:\n",
        "        pd.DataFrame: The DataFrame with Winsorized numerical columns.\n",
        "    \"\"\"\n",
        "    df_transformed = df.copy()\n",
        "    numeric_cols = df.select_dtypes(include=[np.number]).columns\n",
        "\n",
        "    for col in numeric_cols:\n",
        "        df_transformed[col] = winsorize(df_transformed[col], limits=limits)\n",
        "\n",
        "    return df_transformed\n",
        "\n",
        "# Example usage:\n",
        "# Load the California Housing dataset\n",
        "from sklearn.datasets import fetch_california_housing\n",
        "df_california = fetch_california_housing()\n",
        "\n",
        "# Create a DataFrame\n",
        "df_california = pd.DataFrame(df_california.data, columns=df_california.feature_names)\n",
        "df_california['MedHouseVal'] = df_california.target\n",
        "\n",
        "# Apply Winsorization\n",
        "df_winsorized = apply_winsorization(df_california, limits=(0.01, 0.01))\n",
        "\n",
        "# Check the results\n",
        "print(df_winsorized.head())\n",
        "```\n",
        "\n",
        "### 2. **Robust Scaler**\n",
        "\n",
        "Robust Scaler scales features using statistics that are robust to outliers. This method uses the median and the interquartile range (IQR) for scaling, which makes it less sensitive to outliers compared to standard scaling methods.\n",
        "\n",
        "#### Strengths:\n",
        "- **Resilient to Outliers:** More resilient to outliers than other scaling methods.\n",
        "- **Normalizes Data:** Helps in normalizing the data for better model performance.\n",
        "\n",
        "#### Weaknesses:\n",
        "- **Still Sensitive to Extreme Outliers:** While more robust, it can still be affected by extreme outliers.\n",
        "\n",
        "### Implementation of Robust Scaler\n",
        "\n",
        "```python\n",
        "from sklearn.preprocessing import RobustScaler\n",
        "\n",
        "def apply_robust_scaler(df):\n",
        "    \"\"\"\n",
        "    Applies Robust Scaler to numerical columns in the DataFrame.\n",
        "\n",
        "    Args:\n",
        "        df (pd.DataFrame): The original DataFrame to be transformed.\n",
        "\n",
        "    Returns:\n",
        "        pd.DataFrame: The DataFrame with scaled numerical columns.\n",
        "    \"\"\"\n",
        "    df_transformed = df.copy()\n",
        "    numeric_cols = df.select_dtypes(include=[np.number]).columns\n",
        "\n",
        "    scaler = RobustScaler()\n",
        "    df_transformed[numeric_cols] = scaler.fit_transform(df_transformed[numeric_cols])\n",
        "\n",
        "    return df_transformed\n",
        "\n",
        "# Example usage:\n",
        "# Load the California Housing dataset\n",
        "from sklearn.datasets import fetch_california_housing\n",
        "df_california = fetch_california_housing()\n",
        "\n",
        "# Create a DataFrame\n",
        "df_california = pd.DataFrame(df_california.data, columns=df_california.feature_names)\n",
        "df_california['MedHouseVal'] = df_california.target\n",
        "\n",
        "# Apply Robust Scaler\n",
        "df_robust_scaled = apply_robust_scaler(df_california)\n",
        "\n",
        "# Check the results\n",
        "print(df_robust_scaled.head())\n",
        "```\n",
        "\n",
        "### 3. **Clipping**\n",
        "\n",
        "Clipping is a simple method where values outside a certain range are set to the boundary values of that range. This method is similar to Winsorization but typically applied with fixed boundaries.\n",
        "\n",
        "#### Strengths:\n",
        "- **Simple to Implement:** Easy to apply with predefined boundaries.\n",
        "- **Reduces the Impact of Extreme Values:** Limits the influence of outliers.\n",
        "\n",
        "#### Weaknesses:\n",
        "- **Arbitrary Limits:** The choice of boundaries can be arbitrary and might not suit all datasets.\n",
        "\n",
        "### Implementation of Clipping\n",
        "\n",
        "```python\n",
        "def apply_clipping(df, lower_percentile=0.01, upper_percentile=0.99):\n",
        "    \"\"\"\n",
        "    Applies clipping to numerical columns in the DataFrame.\n",
        "\n",
        "    Args:\n",
        "        df (pd.DataFrame): The original DataFrame to be transformed.\n",
        "        lower_percentile (float): The lower percentile for clipping.\n",
        "        upper_percentile (float): The upper percentile for clipping.\n",
        "\n",
        "    Returns:\n",
        "        pd.DataFrame: The DataFrame with clipped numerical columns.\n",
        "    \"\"\"\n",
        "    df_transformed = df.copy()\n",
        "    numeric_cols = df.select_dtypes(include=[np.number]).columns\n",
        "\n",
        "    for col in numeric_cols:\n",
        "        lower_bound = df_transformed[col].quantile(lower_percentile)\n",
        "        upper_bound = df_transformed[col].quantile(upper_percentile)\n",
        "        df_transformed[col] = df_transformed[col].clip(lower=lower_bound, upper=upper_bound)\n",
        "\n",
        "    return df_transformed\n",
        "\n",
        "# Example usage:\n",
        "# Load the California Housing dataset\n",
        "from sklearn.datasets import fetch_california_housing\n",
        "df_california = fetch_california_housing()\n",
        "\n",
        "# Create a DataFrame\n",
        "df_california = pd.DataFrame(df_california.data, columns=df_california.feature_names)\n",
        "df_california['MedHouseVal'] = df_california.target\n",
        "\n",
        "# Apply Clipping\n",
        "df_clipped = apply_clipping(df_california, lower_percentile=0.01, upper_percentile=0.99)\n",
        "\n",
        "# Check the results\n",
        "print(df_clipped.head())\n",
        "```\n",
        "\n",
        "### Summary\n",
        "\n",
        "- **Winsorization:** Caps extreme values to reduce the impact of outliers.\n",
        "- **Robust Scaler:** Scales data using robust statistics, making it less sensitive to outliers.\n",
        "- **Clipping:** Sets values outside a certain range to boundary values.\n",
        "\n",
        "These methods provide additional tools for handling outliers in your dataset, each with its strengths and weaknesses."
      ],
      "metadata": {
        "id": "Hy8A1L08wtu5"
      }
    },
    {
      "cell_type": "code",
      "source": [],
      "metadata": {
        "id": "7sgIGsxQwurA"
      },
      "execution_count": 103,
      "outputs": []
    }
  ]
}